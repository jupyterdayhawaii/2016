{
 "cells": [
  {
   "cell_type": "markdown",
   "metadata": {},
   "source": [
    "# <font color=\"purple\">Jupyter Notebook: from zero to hero</font>\n",
    "## <font color=\"Gray\">** in half a day? yes!</font>\n",
    "\n",
    "### <font color=\"purple\">Brought to you by:</font>\n",
    "\n",
    "#### <font color=\"purple\">Chalmer Lowe</font><img src=\"images/logos.3.600.wide.png\" width=\"600\" align='right'>"
   ]
  },
  {
   "cell_type": "markdown",
   "metadata": {},
   "source": [
    "# Agenda:\n",
    "* Installation\n",
    "* History and Main Uses\n",
    "* The Dashboard\n",
    "* Getting your feet wet: basic uses\n",
    "* Optimizing your configuration\n",
    "* Tips, tricks, and wow! who knew it could do that?\n",
    "* Advanced uses: matplotlib, numpy, bokeh and pandas, oh my!\n",
    "* Gotchas\n",
    "* Share and share alike"
   ]
  },
  {
   "cell_type": "markdown",
   "metadata": {},
   "source": [
    "# Installation"
   ]
  },
  {
   "cell_type": "markdown",
   "metadata": {},
   "source": [
    "Jupyter, itself, runs on **Python**.\n",
    "\n",
    "But Jupyter can run multiple languages within it (like **Julia**, **Scala**, **Ruby**, etc).\n",
    "\n",
    "Thus far, the easiest method I have found for installing Jupyter is to use the **Miniconda installer**.\n",
    "\n",
    "## Step 1: Download\n",
    "Download at http://conda.pydata.org/miniconda.html OR [goo.gl/dU9FdM](http://goo.gl/dU9FdM).\n",
    "\n",
    "## Step 2: Install Miniconda\n",
    "You should be able to follow the directions at the Quick Install http://conda.pydata.org/docs/install/quick.html OR [goo.gl/KkxYHD](https://goo.gl/KkxYHD) page to get Miniconda installed. \n",
    "\n",
    "Once you have Miniconda installed, come back here and follow the following steps to get Jupyter installed."
   ]
  },
  {
   "cell_type": "markdown",
   "metadata": {},
   "source": [
    "## Step 3: Create a conda virtual environment\n",
    "\n",
    "Run the following commands in the command-line to create a virtual environment (virtualenv) to separate Python, Jupyter and the other software from the rest of your machine, so that you don't mess up any other installs that you have.\n",
    "\n",
    "\n",
    "We start by creating a **new** virtual environment called **tutorial** with python installed in it.<br>\n",
    "<code>conda create -n tutorial python</code><br>\n",
    "\n",
    "When asked, press **<code>y</code>** to confirm the creation of the virtualenv.\n",
    "\n",
    "Use the following command on the command-line to activate the virtual environment so that we can use it...\n",
    "\n",
    "**Linux / OSX:**<br><code>source activate tutorial</code><br>\n",
    "**Windows: **<br><code>activate tutorial</code>"
   ]
  },
  {
   "cell_type": "markdown",
   "metadata": {},
   "source": [
    "## Step 4: Install Jupyter\n",
    "\n",
    "From within the activated virtualenv run this command on the command-line\n",
    "\n",
    "<code>conda install jupyter</code>\n",
    "\n",
    "When asked, press **<code>y</code>** to confirm the installation."
   ]
  },
  {
   "cell_type": "markdown",
   "metadata": {},
   "source": [
    "## Step 5: Install the rest of the stuff\n",
    "\n",
    "For each of the following, when, asked press **<code>y</code>** to confirm the installation.\n",
    "\n",
    "<code>conda install matplotlib</code><br>\n",
    "<code>conda install bokeh</code><br>\n",
    "<code>conda install numpy</code><br>\n",
    "<code>conda install pandas</code>"
   ]
  },
  {
   "cell_type": "markdown",
   "metadata": {},
   "source": [
    "## Step 6: Test the install...\n",
    "\n",
    "On the command-line, do the following:\n",
    "1. Type <code>jupyter</code><br>\n",
    "You should see a usage message describing how to use jupyter.\n",
    "1. Type <code>ipython</code> and wait for the ipython prompt to appear.\n",
    "2. Type <code>import numpy, pandas, matplotlib, bokeh</code>\n",
    "\n",
    "If all has gone well, you will have successfully installed all of the above packages.\n",
    "\n",
    "Type <code>quit()</code> to leave the ipython interpreter and return to the command prompt."
   ]
  },
  {
   "cell_type": "markdown",
   "metadata": {},
   "source": [
    "# History and main uses"
   ]
  },
  {
   "cell_type": "markdown",
   "metadata": {},
   "source": [
    "## IPython\n",
    "Jupyter notebooks used to be called IPython notebooks.\n",
    "\n",
    "You will still find **many** references and tutorials about IPython notebooks. Your mileage may vary in terms of how useful those tutorials and references are.\n",
    "\n",
    "## Language support\n",
    "Jupyter notebooks support many programming languages.\n",
    "\n",
    "A short list includes:\n",
    "* Python\n",
    "* Julia\n",
    "* Ruby\n",
    "* Scala\n",
    "* Go\n",
    "* Lua\n",
    "* etc\n",
    "\n",
    "For a full list, see here:\n",
    "\n",
    "https://github.com/ipython/ipython/wiki/IPython-kernels-for-other-languages"
   ]
  },
  {
   "cell_type": "markdown",
   "metadata": {},
   "source": [
    "# Sponsorship\n",
    "The Jupyter project is sponsored by the following organizations:\n",
    "\n",
    "![Moore](images/moore.svg)\n",
    "![Alfred](images/alfred.svg)\n",
    "![rackspace](images/rackspace-color.svg)\n",
    "![microsoft](images/microsoft-color.svg)\n",
    "![google](images/google-color.svg)\n",
    "![helmsley](images/helmsley.svg)\n",
    "\n",
    "**Not** a complete list..."
   ]
  },
  {
   "cell_type": "markdown",
   "metadata": {},
   "source": [
    "## Main uses\n",
    "* To produce notebooks\n",
    "* To teach\n",
    "* To create slides\n",
    "* To create HTML output\n",
    "* To generate other outputs (pdf, latex, etc) >>> even whole books "
   ]
  },
  {
   "cell_type": "markdown",
   "metadata": {},
   "source": [
    "# The Dashboard"
   ]
  },
  {
   "cell_type": "markdown",
   "metadata": {},
   "source": [
    "## Launching your Jupyter Dashboard\n",
    "\n",
    "Lets start up a basic empty notebook:\n",
    "\n",
    "1. Open your *terminal* (Linux/Mac) OR *command prompt* (Windows)\n",
    "2. Navigate to (or make a folder) you wish to store your notebook in\n",
    "3. Type **jupyter notebook**\n",
    "4. Press Enter/Return\n",
    "\n",
    "At this point, your default browser should open up (OR a new tab if your browser is already open) and you should have something that looks like this...\n",
    "\n",
    "<img src=\"images/dashboard_generic.png\" width=\"800\">\n",
    "\n",
    "## About your new dashboard\n",
    "\n",
    "Several things to note:\n",
    "* Tab row\n",
    "* File explorer >>> Notebook list (currently empty)\n",
    "* Control buttons"
   ]
  },
  {
   "cell_type": "markdown",
   "metadata": {},
   "source": [
    "##  Creating a new notebook\n",
    "\n",
    "Lets create our first notebook\n",
    "\n",
    "1. Click on the **New Button** (on the right side of the Dashboard) <img src=\"images/new_dropdown.png\" width=\"200\">\n",
    "2. Choose **Python [Conda env:tutorial]** \n",
    "\n",
    "This should open a new tab in your browser that looks like this:\n",
    "\n",
    "<img src=\"images/new_notebook.png\" width=\"800\">\n",
    "\n",
    "Before we go any further, let's give your notebook a name:\n",
    "1. Click on the text **'Untitled'** at the top of your screen.<br><img src=\"images/nb_title.png\" width=\"200\">\n",
    "\n",
    "2. Enter the title of your notebook, here we are using **'my_notebook'**. (NOTE: this will become the filename as well).<br><img src=\"images/nb_title_input.png\" width=\"700\">\n",
    "3. Click **Ok**\n",
    "\n",
    "You should have a new file in your filesystem with a name that matches your notebook: \n",
    "<br><img src=\"images/nb_in_terminal.png\" width=\"700\">\n"
   ]
  },
  {
   "cell_type": "markdown",
   "metadata": {},
   "source": [
    "##  Back to your Dashboard\n",
    "\n",
    "Let's go back to the browser tab with your dashboard to take a look.\n",
    "\n",
    "You should see that a notebook has appeared in the Dashboard, entitled: *my_notebook.ipynb*\n",
    "\n",
    "<img src=\"images/db_one_file.png\" width=\"800\">"
   ]
  },
  {
   "cell_type": "markdown",
   "metadata": {},
   "source": [
    "##  Controlling your notebooks\n",
    "Each notebook has visual cues to let you know the status of the notebook.\n",
    "The notebook icon will change colors from black to green AND the word 'Running' will indicate that the notebook is currently running a programming kernel.\n",
    "\n",
    "Let's close/shutdown the kernel for our new notebook AND then start it up again.\n",
    "1. Click on the **checkbox** to the left of the notebook name. Notice that several buttons appear at the top of the Dashboard:\n",
    "<br><img src=\"images/db_shutdown_btn.png\" width=\"450\">\n",
    "2. Click on the **'Shutdown' Button** to stop any running notebooks you have selected. \n",
    "\n",
    "NOTE: once you shutdown a running notebook you can no longer use the notebook even though there is still some limited functionality associated with the javascript in the browser...\n",
    "\n",
    "In this sample notebook, cell **In [1]**, was executed while the kernel was running and Python computed the result 10 found in **Out[1]**.\n",
    "\n",
    "Conversely, cell **In [\\*]** was created after the kernel was shutdown and thus it was not possible to compute a result. NOTE: the asterisk that indicates nothing has processed. The browser-based javascript happily allowed me to create a new empty cell, but it is not active.  \n",
    "<br><img src=\"images/nb_kernel_down.png\" width=\"450\">\n"
   ]
  },
  {
   "cell_type": "markdown",
   "metadata": {},
   "source": [
    "##  Maintaining notebooks\n",
    "The Dashboard also enables you to:\n",
    "* copy notebooks (running or not)\n",
    "* rename them (when shutdown)\n",
    "* delete them (running or not)\n",
    "\n",
    "\n",
    "\n",
    "\n",
    "\n"
   ]
  },
  {
   "cell_type": "markdown",
   "metadata": {},
   "source": [
    "### Duplicating notebooks\n",
    "Let's duplicate a notebook AND then rename the copy.\n",
    "1. Click on the **checkbox** to the left of a notebook name. Notice that several buttons appear at the top of the Dashboard:\n",
    "<br><img src=\"images/db_rename_dupe.png\" width=\"450\">\n",
    "2. Click on the **'Duplicate' button** to create a copy of the selected notebook.\n",
    "3. On the pop-up that appears, click on the **'Duplicate' button** to confirm.\n",
    "NOTE: your file will be automagically renamed with a suffix of *\"-Copy1\"* OR something similar.\n",
    "<br><img src=\"images/db_copy.png\" width=\"500\">"
   ]
  },
  {
   "cell_type": "markdown",
   "metadata": {},
   "source": [
    "### Renaming notebooks\n",
    "To change the title of a notebook:\n",
    "1. Click on the **checkbox** to the left of any shutdown notebook name. Notice that several buttons appear at the top of the Dashboard:\n",
    "<br><img src=\"images/db_rename_dupe.png\" width=\"450\">\n",
    "2. Click on the **'Rename' button** to rename the selected notebook.\n",
    "3. On the pop-up that appears, change the name to 'new_notebook' AND click on the **'Ok' button**."
   ]
  },
  {
   "cell_type": "markdown",
   "metadata": {},
   "source": [
    "### Deleting notebooks\n",
    "\n",
    "If you have a notebook that you no longer need, you can delete it.\n",
    "1. Click on the **checkbox** to the left of the notebook called: 'new_notebook'. Notice that several buttons appear at the top of the Dashboard:\n",
    "<br><img src=\"images/db_delete.png\" width=\"450\">\n",
    "2. Click on the **'Trashcan icon'** to delete the selected notebook.\n",
    "3. On the pop-up that appears, click on the **'Delete' button** to confirm."
   ]
  },
  {
   "cell_type": "markdown",
   "metadata": {},
   "source": [
    "# Getting your feet wet: basic uses"
   ]
  },
  {
   "cell_type": "markdown",
   "metadata": {},
   "source": [
    "Click back on the browser tab for your notebook: 'my_notebook' to practice basic techniques.\n",
    "\n",
    "At this point you should be on your browser tab looking at your new empty notebook.\n",
    "\n",
    "<img src=\"images/new_notebook.png\" width=\"800\">\n",
    "\n",
    "Let's dive in a bit and then come back to look at the interface...\n",
    "\n",
    "1. Click your cursor in the open field labeled: **In [ ]**\n",
    "2. Type the following formula in to the field: 2 * 2\n",
    "3. Press **Shift + Enter**\n",
    "\n",
    "You should notice that:\n",
    "1. The **IN [ ]** field now looks like this: **In [1]**\n",
    "2. An **Out[1]** line with the answer '4' has appeared\n",
    "3. A new **In [ ]** field has appeared.\n",
    "\n",
    "<img src=\"images/nb_first_calc.png\" width=\"800\">"
   ]
  },
  {
   "cell_type": "markdown",
   "metadata": {},
   "source": [
    "## Simple code execution and revision:\n",
    "\n",
    "For the next few minutes, let's play with this notebook, by:\n",
    "* adding code\n",
    "* executing that code\n",
    "* adding more code (i.e. a simple function)\n",
    "* revising previous code\n",
    "* re-executing follow-on code\n",
    "\n",
    "\n",
    "\n"
   ]
  },
  {
   "cell_type": "markdown",
   "metadata": {},
   "source": [
    "## Adding code cell by cell.\n",
    "\n",
    "Code can be added into an existing cell OR into a new cell.\n",
    "\n",
    "Do the following in your sample notebook:\n",
    "1. In an empty cell, create a variable, like this:\n",
    "    \n",
    "    <code><font color=\"blue\">phrase = 'Hello world!'</font></code>\n",
    "2. Press **Shift+Enter**\n",
    "3. In a new cell, type:\n",
    "\n",
    "    <code><font color=\"blue\">print(phrase)</font></code>\n",
    "\n",
    "4. Press **Shift+Enter**\n",
    "\n",
    "\n"
   ]
  },
  {
   "cell_type": "markdown",
   "metadata": {},
   "source": [
    "## Adding longer snippets of code in a single cell.\n",
    "\n",
    "Longer snippets of code can be added to a cell to group like thoughts together.\n",
    "\n",
    "Do the following in your sample notebook:\n",
    "1. In an empty cell, create a simple function and then call it, like this. To add a new line to a cell, simply press **Enter** (instead of **Shift+Enter**):\n",
    "    \n",
    "    <code>def display(phrase):\n",
    "        print(phrase, 'we love Jupyter!')\n",
    "        \n",
    "   display(phrase)</code><br><br>\n",
    "\n",
    "2. Press **Shift+Enter**"
   ]
  },
  {
   "cell_type": "markdown",
   "metadata": {},
   "source": [
    "## What if you realize your earlier code is faulty?\n",
    "\n",
    "You can easily revisit previous cells to edit the content, but you need to be careful to ensure that follow-on cells execute appropriately.\n",
    "\n",
    "Do the following in your sample notebook:\n",
    "1. Return to the cell that has the line:\n",
    "\n",
    "    <code>phrase = 'Hello world!'</code>\n",
    "\n",
    "2. Revise the text to say...\n",
    "\n",
    "    <code>phrase = 'Aloha world!'</code>\n",
    "\n",
    "3. Press **Shift+Enter**\n",
    "\n",
    "NOTE: \n",
    "1. the number in the **In [#]** will change.\n",
    "2. **None** of the following cells will execute.\n",
    "3. To cause them to execute, you have several options. Let's start with one you are familiar with...:\n",
    "\n",
    "### Execute your remaining cells\n",
    "1. Press **Shift+Enter** to execute the next cell\n",
    "2. Press **Shift+Enter** to execute the last cell\n",
    "\n",
    "Each of the two cells should execute and the outputs should change to reflect the new phrase.\n"
   ]
  },
  {
   "cell_type": "markdown",
   "metadata": {},
   "source": [
    "# Other means of executing code:\n",
    "\n",
    "There are several other ways of executing code in cells, besides repetitive use of the **Shift+Enter** keyboard shortcut.\n",
    "\n",
    "## Run cells\n",
    "\n",
    "To run specific cells, you can use commands found in the Cell menu\n",
    "1. Click in the cell containing \"Aloha world!\" and change the content to read \"Aloha Hawaii!\"\n",
    "2. Click the Cell menu\n",
    "3. Click the entry: \"Run All Below\"\n",
    "<img src=\"images/run_cells.png\" width=\"250\">\n",
    "\n",
    "NOTE: All the following cells execute in order, until the end of the notebook is reached.\n",
    "\n",
    "You can also execute:\n",
    "* run all the previous cells\n",
    "* an individual cell\n",
    "* the current cell and select the following cell\n",
    "* the current cell and insert a following cell\n",
    "\n",
    "NOTE: There are additional options that we will cover re: selecting multiple contiguous cells.\n",
    "\n",
    "## Restart the kernel\n",
    "\n",
    "To run the entire notebook, from scratch...\n",
    "1. Click the Kernel menu\n",
    "2. Click the entry: Restart & Run All\n",
    "<img src=\"images/restart_run.png\" width=\"250\">\n",
    "\n",
    "WARNING: this will delete any existing data or objects in memory."
   ]
  },
  {
   "cell_type": "markdown",
   "metadata": {},
   "source": [
    "# Markdown\n",
    "\n",
    "Note... Jeff will be doing a talk on Markdown, so this will simply give you the 30 second view and we will let Jeff's talk cover the heavy lifting.\n",
    "\n",
    "* Markdown is an easy to read, easy to write plaintext text format that converts **automagically** to html markup.\n",
    "* the most common HTML formats are readily available\n",
    "* the format is simple and generally intuitive.\n",
    "\n",
    "## Create a markdown cell\n",
    "\n",
    "1. To convert a cell from a code cell to a Markdown cell, click on the Code dropdown button in the center of the menu bar. \n",
    "<img src=\"images/nb_cell_content_dropdown.png\" width=\"400\">\n",
    "2. Select the 'Markdown' option.\n",
    "<img src=\"images/nb_markdown_dropdown.png\" width=\"280\">\n",
    "3. The cell will change into a Markdown cell and will accept Markdown formatting (as well as regular HTML). \n",
    "4. The Markdown will display properly when you execute the cell (i.e. press **Shift+Enter**.\n",
    "\n",
    "\n",
    "\n",
    "    \n",
    "\n",
    "\n",
    "\n"
   ]
  },
  {
   "cell_type": "markdown",
   "metadata": {},
   "source": [
    "## Sample markdown\n",
    "\n",
    "Here are just a few tidbits to tide you over regarding Markdown including the formatting AND the output.\n",
    "\n",
    "<img src=\"images/nb_markdown_sample.png\" width=\"600\">"
   ]
  },
  {
   "cell_type": "markdown",
   "metadata": {},
   "source": [
    "# Editing commands\n",
    "\n",
    "## Command versus Edit modes\n",
    "Jupyter Notebooks have two modes that provide access to keyboard shortcuts:\n",
    "* Command mode - Issue commands to edit, control the notebook\n",
    "* Edit mode - Edit the content of cells\n",
    "\n",
    "To access **Command (blue)** mode, press the ESC key.\n",
    "<img src=\"images/nb_command_blue.png\" width=\"200\">\n",
    "\n",
    "To access **Edit (green)** mode, press the Enter key.\n",
    "<img src=\"images/nb_edit_green.png\" width=\"200\">\n",
    "\n",
    "\n",
    "As an example... Copy / Paste\n",
    "\n",
    "1. Type **2 * 42** into an empty cell\n",
    "2. Press the **ESC** to enter Command mode\n",
    "3. Press **c** to copy the existing cell\n",
    "4. Press **v** to paste a copy of that cell\n",
    "\n",
    "Another example: convert to Markdown\n",
    "1. Ensure that you are in Command mode\n",
    "2. Press **m** to enter Markdown mode\n",
    "3. Press **Enter** to immediately revert to Edit mode to start editing your Markdown content."
   ]
  },
  {
   "cell_type": "markdown",
   "metadata": {},
   "source": [
    "## Cell selection\n",
    "\n",
    "We mentioned earlier that there are additional options in terms of running selected cells.\n",
    "\n",
    "Let's take a look at how to select multiple cells.\n",
    "\n",
    "1. Press the **ESC** key to enter Command mode\n",
    "2. Press **Shift** key and the **Up** or **Down Arrow** keys to select contiguous cells\n",
    "\n",
    "Once you have selected cells, you can perform many different actions on those cells like: **cut**, **paste**, **change cell type**, **execute code**, etc.\n",
    "\n",
    "\n"
   ]
  },
  {
   "cell_type": "markdown",
   "metadata": {},
   "source": [
    "## New cell, cut, copy & paste\n",
    "\n",
    "Try the following commands to improve your ability to create/edit your notebook:\n",
    "1. Press the **ESC** key to enter Command mode\n",
    "2. Press **a** to add a new cell above the cell you are currently in\n",
    "3. Press **b** to add a new cell below the cell you are currently in\n",
    "4. Press **x** to cut the cell you are in and save the content to the clipboard\n",
    "5. Press **v** to paste the clipboard content as a cell below the cell you are currently in\n",
    "6. Press **c** to copy the cell you are currently in\n",
    "6. Press **Shift+v** to paste the clipboard content as a cell above the cell you are currently in.\n",
    "7. Press **d** **d** (*d* twice) to delete a cell (NOTE: your cell will note be stored in the clipboard)."
   ]
  },
  {
   "cell_type": "markdown",
   "metadata": {},
   "source": [
    "## What else can you do?\n",
    "\n",
    "Jupyter has an entire assortment of commands on a **command palette**. To access the command palette:\n",
    "\n",
    "1. Click the Command Palette button\n",
    "<img src=\"images/nb_cmd_palette_btn.png\" width=\"50\">\n",
    "\n",
    "2. Search for the keyboard short cut for command palette.\n",
    "<img src=\"images/nb_cmd_palette_search.png\" width=\"600\">\n",
    "\n",
    "On my Mac, it is this:\n",
    "<img src=\"images/nb_cmd_palette_shortcut.png\" width=\"60\">\n",
    "\n",
    "Think of some of your most common editing tasks and try to find the keyboard shortcut to activate those actions (the following are some ideas):\n",
    "* find and replace (you can even use *regex!* >>> but now you have two problems)\n",
    "* merge cells\n",
    "* split a cell at the cursor\n",
    "* undo cell deletion"
   ]
  },
  {
   "cell_type": "markdown",
   "metadata": {},
   "source": [
    "# Optimizing your configuration"
   ]
  },
  {
   "cell_type": "markdown",
   "metadata": {},
   "source": [
    "## Jupyter Notebooks have a variety of configurations\n",
    "* Kernels besides Python\n",
    "* Configuration file\n",
    "* Configuration on the fly"
   ]
  },
  {
   "cell_type": "markdown",
   "metadata": {},
   "source": [
    "## Kernels besides Python\n",
    "Let's presume you have another language **installed**, say Scala or Julia.\n",
    "\n",
    "1. Download the kernel specific to that language\n",
    "2. Configure Jupyter to recognize the kernel \n",
    "3. Start the Jupyter notebook using the command: **jupyter notebook**\n",
    "3. Click the new notebook dropdown\n",
    "4. Choose the kernel you want from the dropdown\n",
    "<img src=\"images/db_kernel_selection.png\" width=\"200\">\n",
    "\n",
    "A new notebook based on the kernel you selected will start in a new tab.\n",
    "The kernel that is being used will be displayed in the upper right hand corner.\n",
    "\n",
    "<img src=\"images/nb_julia_nb.png\" width=\"600\">"
   ]
  },
  {
   "cell_type": "markdown",
   "metadata": {},
   "source": [
    "## Kernel gotchas...\n",
    "\n",
    "1. The kernel and the programming language are **different** and **must be installed separately**: *picture the kernel as an interface between Jupyter and your language of choice*\n",
    "2. The kernel install process for each language is *different*\n",
    "3. The IPython Kernel is considered the reference version\n",
    "    * It is most complete, most robust\n",
    "    * Other kernels may not be feature complete\n",
    "4. There may be *various versions* of kernels for the same language (i.e. Scala)\n",
    "5. Expect some trial and error.\n",
    "\n",
    "I attempted to use Scala and Julia.\n",
    "I attempted various versions of IScala, etc... and promptly gave up in deference to time limitations in prepping this lesson.\n",
    "\n",
    "Julia, on the other hand, was pretty straightforward"
   ]
  },
  {
   "cell_type": "markdown",
   "metadata": {},
   "source": [
    "## The Configuration File"
   ]
  },
  {
   "cell_type": "markdown",
   "metadata": {},
   "source": [
    "Jupyter comes with a robust configuration system based on a configuration file.\n",
    "\n",
    "Out of the box, Jupyter runs with zero admin/zero configuration, but if you need to tweak things...\n",
    "\n",
    "On the command prompt, run this command:\n",
    "\n",
    "<code>jupyter notebook --generate-config</code>\n",
    "\n"
   ]
  },
  {
   "cell_type": "code",
   "execution_count": 1,
   "metadata": {
    "collapsed": false
   },
   "outputs": [
    {
     "name": "stdout",
     "output_type": "stream",
     "text": [
      "# Configuration file for jupyter-notebook.\n",
      "\n",
      "#------------------------------------------------------------------------------\n",
      "# Application(SingletonConfigurable) configuration\n",
      "#------------------------------------------------------------------------------\n",
      "\n",
      "## This is an application.\n",
      "\n",
      "## The date format used by logging formatters for %(asctime)s\n",
      "#c.Application.log_datefmt = '%Y-%m-%d %H:%M:%S'\n",
      "\n",
      "## The Logging format template\n",
      "#c.Application.log_format = '[%(name)s]%(highlevel)s %(message)s'\n",
      "\n",
      "## Set the log level by value or name.\n",
      "#c.Application.log_level = 30\n",
      "\n",
      "#------------------------------------------------------------------------------\n",
      "# JupyterApp(Application) configuration\n",
      "#------------------------------------------------------------------------------\n",
      "\n",
      "## Base class for Jupyter applications\n",
      "\n",
      "## Answer yes to any prompts.\n",
      "#c.JupyterApp.answer_yes = False\n",
      "\n",
      "## Full path of a config file.\n",
      "#c.JupyterApp.config_file = ''\n",
      "\n",
      "## Specify a config file to load.\n",
      "#c.JupyterApp.config_file_name = ''\n",
      "\n",
      "## Generate default config file.\n",
      "#c.JupyterApp.generate_config = False\n",
      "\n",
      "#------------------------------------------------------------------------------\n",
      "# NotebookApp(JupyterApp) configuration\n",
      "#------------------------------------------------------------------------------\n",
      "\n",
      "## Set the Access-Control-Allow-Credentials: true header\n",
      "#c.NotebookApp.allow_credentials = False\n",
      "\n",
      "## Set the Access-Control-Allow-Origin header\n",
      "#  \n",
      "#  Use '*' to allow any origin to access your server.\n",
      "#  \n",
      "#  Takes precedence over allow_origin_pat.\n",
      "#c.NotebookApp.allow_origin = ''\n",
      "\n",
      "## Use a regular expression for the Access-Control-Allow-Origin header\n",
      "#  \n",
      "#  Requests from an origin matching the expression will get replies with:\n",
      "#  \n",
      "#      Access-Control-Allow-Origin: origin\n",
      "#  \n",
      "#  where `origin` is the origin of the request.\n",
      "#  \n",
      "#  Ignored if allow_origin is set.\n",
      "#c.NotebookApp.allow_origin_pat = ''\n",
      "\n",
      "## DEPRECATED use base_url\n",
      "#c.NotebookApp.base_project_url = '/'\n",
      "\n",
      "## The base URL for the notebook server.\n",
      "#  \n",
      "#  Leading and trailing slashes can be omitted, and will automatically be added.\n",
      "#c.NotebookApp.base_url = '/'\n",
      "\n",
      "## Specify what command to use to invoke a web browser when opening the notebook.\n",
      "#  If not specified, the default browser will be determined by the `webbrowser`\n",
      "#  standard library module, which allows setting of the BROWSER environment\n",
      "#  variable to override it.\n",
      "#c.NotebookApp.browser = ''\n",
      "\n",
      "## The full path to an SSL/TLS certificate file.\n",
      "#c.NotebookApp.certfile = ''\n",
      "\n",
      "## The full path to a certificate authority certificate for SSL/TLS client\n",
      "#  authentication.\n",
      "#c.NotebookApp.client_ca = ''\n",
      "\n",
      "## The config manager class to use\n",
      "#c.NotebookApp.config_manager_class = 'notebook.services.config.manager.ConfigManager'\n",
      "\n",
      "## The notebook manager class to use.\n",
      "#c.NotebookApp.contents_manager_class = 'notebook.services.contents.filemanager.FileContentsManager'\n",
      "\n",
      "## Extra keyword arguments to pass to `set_secure_cookie`. See tornado's\n",
      "#  set_secure_cookie docs for details.\n",
      "#c.NotebookApp.cookie_options = {}\n",
      "\n",
      "## The random bytes used to secure cookies. By default this is a new random\n",
      "#  number every time you start the Notebook. Set it to a value in a config file\n",
      "#  to enable logins to persist across server sessions.\n",
      "#  \n",
      "#  Note: Cookie secrets should be kept private, do not share config files with\n",
      "#  cookie_secret stored in plaintext (you can read the value from a file).\n",
      "#c.NotebookApp.cookie_secret = b''\n",
      "\n",
      "## The file where the cookie secret is stored.\n",
      "#c.NotebookApp.cookie_secret_file = ''\n",
      "\n",
      "## The default URL to redirect to from `/`\n",
      "#c.NotebookApp.default_url = '/tree'\n",
      "\n",
      "## Whether to enable MathJax for typesetting math/TeX\n",
      "#  \n",
      "#  MathJax is the javascript library Jupyter uses to render math/LaTeX. It is\n",
      "#  very large, so you may want to disable it if you have a slow internet\n",
      "#  connection, or for offline use of the notebook.\n",
      "#  \n",
      "#  When disabled, equations etc. will appear as their untransformed TeX source.\n",
      "#c.NotebookApp.enable_mathjax = True\n",
      "\n",
      "## extra paths to look for Javascript notebook extensions\n",
      "#c.NotebookApp.extra_nbextensions_path = []\n",
      "\n",
      "## Extra paths to search for serving static files.\n",
      "#  \n",
      "#  This allows adding javascript/css to be available from the notebook server\n",
      "#  machine, or overriding individual files in the IPython\n",
      "#c.NotebookApp.extra_static_paths = []\n",
      "\n",
      "## Extra paths to search for serving jinja templates.\n",
      "#  \n",
      "#  Can be used to override templates from notebook.templates.\n",
      "#c.NotebookApp.extra_template_paths = []\n",
      "\n",
      "## \n",
      "#c.NotebookApp.file_to_run = ''\n",
      "\n",
      "## Use minified JS file or not, mainly use during dev to avoid JS recompilation\n",
      "#c.NotebookApp.ignore_minified_js = False\n",
      "\n",
      "## (bytes/sec) Maximum rate at which messages can be sent on iopub before they\n",
      "#  are limited.\n",
      "#c.NotebookApp.iopub_data_rate_limit = 0\n",
      "\n",
      "## (msg/sec) Maximum rate at which messages can be sent on iopub before they are\n",
      "#  limited.\n",
      "#c.NotebookApp.iopub_msg_rate_limit = 0\n",
      "\n",
      "## The IP address the notebook server will listen on.\n",
      "#c.NotebookApp.ip = 'localhost'\n",
      "\n",
      "## Supply extra arguments that will be passed to Jinja environment.\n",
      "#c.NotebookApp.jinja_environment_options = {}\n",
      "\n",
      "## Extra variables to supply to jinja templates when rendering.\n",
      "#c.NotebookApp.jinja_template_vars = {}\n",
      "\n",
      "## The kernel manager class to use.\n",
      "#c.NotebookApp.kernel_manager_class = 'notebook.services.kernels.kernelmanager.MappingKernelManager'\n",
      "\n",
      "## The kernel spec manager class to use. Should be a subclass of\n",
      "#  `jupyter_client.kernelspec.KernelSpecManager`.\n",
      "#  \n",
      "#  The Api of KernelSpecManager is provisional and might change without warning\n",
      "#  between this version of Jupyter and the next stable one.\n",
      "#c.NotebookApp.kernel_spec_manager_class = 'jupyter_client.kernelspec.KernelSpecManager'\n",
      "\n",
      "## The full path to a private key file for usage with SSL/TLS.\n",
      "#c.NotebookApp.keyfile = ''\n",
      "\n",
      "## The login handler class to use.\n",
      "#c.NotebookApp.login_handler_class = 'notebook.auth.login.LoginHandler'\n",
      "\n",
      "## The logout handler class to use.\n",
      "#c.NotebookApp.logout_handler_class = 'notebook.auth.logout.LogoutHandler'\n",
      "\n",
      "## The url for MathJax.js.\n",
      "#c.NotebookApp.mathjax_url = ''\n",
      "\n",
      "## Dict of Python modules to load as notebook server extensions.Entry values can\n",
      "#  be used to enable and disable the loading ofthe extensions.\n",
      "#c.NotebookApp.nbserver_extensions = {}\n",
      "\n",
      "## The directory to use for notebooks and kernels.\n",
      "#c.NotebookApp.notebook_dir = ''\n",
      "\n",
      "## Whether to open in a browser after starting. The specific browser used is\n",
      "#  platform dependent and determined by the python standard library `webbrowser`\n",
      "#  module, unless it is overridden using the --browser (NotebookApp.browser)\n",
      "#  configuration option.\n",
      "#c.NotebookApp.open_browser = True\n",
      "\n",
      "## Hashed password to use for web authentication.\n",
      "#  \n",
      "#  To generate, type in a python/IPython shell:\n",
      "#  \n",
      "#    from notebook.auth import passwd; passwd()\n",
      "#  \n",
      "#  The string should be of the form type:salt:hashed-password.\n",
      "#c.NotebookApp.password = ''\n",
      "\n",
      "## The port the notebook server will listen on.\n",
      "#c.NotebookApp.port = 8888\n",
      "\n",
      "## The number of additional ports to try if the specified port is not available.\n",
      "#c.NotebookApp.port_retries = 50\n",
      "\n",
      "## DISABLED: use %pylab or %matplotlib in the notebook to enable matplotlib.\n",
      "#c.NotebookApp.pylab = 'disabled'\n",
      "\n",
      "## (sec) Time window used to  check the message and data rate limits.\n",
      "#c.NotebookApp.rate_limit_window = 1.0\n",
      "\n",
      "## Reraise exceptions encountered loading server extensions?\n",
      "#c.NotebookApp.reraise_server_extension_failures = False\n",
      "\n",
      "## DEPRECATED use the nbserver_extensions dict instead\n",
      "#c.NotebookApp.server_extensions = []\n",
      "\n",
      "## The session manager class to use.\n",
      "#c.NotebookApp.session_manager_class = 'notebook.services.sessions.sessionmanager.SessionManager'\n",
      "\n",
      "## Supply SSL options for the tornado HTTPServer. See the tornado docs for\n",
      "#  details.\n",
      "#c.NotebookApp.ssl_options = {}\n",
      "\n",
      "## Supply overrides for the tornado.web.Application that the Jupyter notebook\n",
      "#  uses.\n",
      "#c.NotebookApp.tornado_settings = {}\n",
      "\n",
      "## Whether to trust or not X-Scheme/X-Forwarded-Proto and X-Real-Ip/X-Forwarded-\n",
      "#  For headerssent by the upstream reverse proxy. Necessary if the proxy handles\n",
      "#  SSL\n",
      "#c.NotebookApp.trust_xheaders = False\n",
      "\n",
      "## DEPRECATED, use tornado_settings\n",
      "#c.NotebookApp.webapp_settings = {}\n",
      "\n",
      "## The base URL for websockets, if it differs from the HTTP server (hint: it\n",
      "#  almost certainly doesn't).\n",
      "#  \n",
      "#  Should be in the form of an HTTP origin: ws[s]://hostname[:port]\n",
      "#c.NotebookApp.websocket_url = ''\n",
      "\n",
      "#------------------------------------------------------------------------------\n",
      "# ConnectionFileMixin(LoggingConfigurable) configuration\n",
      "#------------------------------------------------------------------------------\n",
      "\n",
      "## Mixin for configurable classes that work with connection files\n",
      "\n",
      "## JSON file in which to store connection info [default: kernel-<pid>.json]\n",
      "#  \n",
      "#  This file will contain the IP, ports, and authentication key needed to connect\n",
      "#  clients to this kernel. By default, this file will be created in the security\n",
      "#  dir of the current profile, but can be specified by absolute path.\n",
      "#c.ConnectionFileMixin.connection_file = ''\n",
      "\n",
      "## set the control (ROUTER) port [default: random]\n",
      "#c.ConnectionFileMixin.control_port = 0\n",
      "\n",
      "## set the heartbeat port [default: random]\n",
      "#c.ConnectionFileMixin.hb_port = 0\n",
      "\n",
      "## set the iopub (PUB) port [default: random]\n",
      "#c.ConnectionFileMixin.iopub_port = 0\n",
      "\n",
      "## Set the kernel's IP address [default localhost]. If the IP address is\n",
      "#  something other than localhost, then Consoles on other machines will be able\n",
      "#  to connect to the Kernel, so be careful!\n",
      "#c.ConnectionFileMixin.ip = ''\n",
      "\n",
      "## set the shell (ROUTER) port [default: random]\n",
      "#c.ConnectionFileMixin.shell_port = 0\n",
      "\n",
      "## set the stdin (ROUTER) port [default: random]\n",
      "#c.ConnectionFileMixin.stdin_port = 0\n",
      "\n",
      "## \n",
      "#c.ConnectionFileMixin.transport = 'tcp'\n",
      "\n",
      "#------------------------------------------------------------------------------\n",
      "# KernelManager(ConnectionFileMixin) configuration\n",
      "#------------------------------------------------------------------------------\n",
      "\n",
      "## Manages a single kernel in a subprocess on this host.\n",
      "#  \n",
      "#  This version starts kernels with Popen.\n",
      "\n",
      "## Should we autorestart the kernel if it dies.\n",
      "#c.KernelManager.autorestart = True\n",
      "\n",
      "## DEPRECATED: Use kernel_name instead.\n",
      "#  \n",
      "#  The Popen Command to launch the kernel. Override this if you have a custom\n",
      "#  kernel. If kernel_cmd is specified in a configuration file, Jupyter does not\n",
      "#  pass any arguments to the kernel, because it cannot make any assumptions about\n",
      "#  the arguments that the kernel understands. In particular, this means that the\n",
      "#  kernel does not receive the option --debug if it given on the Jupyter command\n",
      "#  line.\n",
      "#c.KernelManager.kernel_cmd = []\n",
      "\n",
      "#------------------------------------------------------------------------------\n",
      "# Session(Configurable) configuration\n",
      "#------------------------------------------------------------------------------\n",
      "\n",
      "## Object for handling serialization and sending of messages.\n",
      "#  \n",
      "#  The Session object handles building messages and sending them with ZMQ sockets\n",
      "#  or ZMQStream objects.  Objects can communicate with each other over the\n",
      "#  network via Session objects, and only need to work with the dict-based IPython\n",
      "#  message spec. The Session will handle serialization/deserialization, security,\n",
      "#  and metadata.\n",
      "#  \n",
      "#  Sessions support configurable serialization via packer/unpacker traits, and\n",
      "#  signing with HMAC digests via the key/keyfile traits.\n",
      "#  \n",
      "#  Parameters ----------\n",
      "#  \n",
      "#  debug : bool\n",
      "#      whether to trigger extra debugging statements\n",
      "#  packer/unpacker : str : 'json', 'pickle' or import_string\n",
      "#      importstrings for methods to serialize message parts.  If just\n",
      "#      'json' or 'pickle', predefined JSON and pickle packers will be used.\n",
      "#      Otherwise, the entire importstring must be used.\n",
      "#  \n",
      "#      The functions must accept at least valid JSON input, and output *bytes*.\n",
      "#  \n",
      "#      For example, to use msgpack:\n",
      "#      packer = 'msgpack.packb', unpacker='msgpack.unpackb'\n",
      "#  pack/unpack : callables\n",
      "#      You can also set the pack/unpack callables for serialization directly.\n",
      "#  session : bytes\n",
      "#      the ID of this Session object.  The default is to generate a new UUID.\n",
      "#  username : unicode\n",
      "#      username added to message headers.  The default is to ask the OS.\n",
      "#  key : bytes\n",
      "#      The key used to initialize an HMAC signature.  If unset, messages\n",
      "#      will not be signed or checked.\n",
      "#  keyfile : filepath\n",
      "#      The file containing a key.  If this is set, `key` will be initialized\n",
      "#      to the contents of the file.\n",
      "\n",
      "## Threshold (in bytes) beyond which an object's buffer should be extracted to\n",
      "#  avoid pickling.\n",
      "#c.Session.buffer_threshold = 1024\n",
      "\n",
      "## Whether to check PID to protect against calls after fork.\n",
      "#  \n",
      "#  This check can be disabled if fork-safety is handled elsewhere.\n",
      "#c.Session.check_pid = True\n",
      "\n",
      "## Threshold (in bytes) beyond which a buffer should be sent without copying.\n",
      "#c.Session.copy_threshold = 65536\n",
      "\n",
      "## Debug output in the Session\n",
      "#c.Session.debug = False\n",
      "\n",
      "## The maximum number of digests to remember.\n",
      "#  \n",
      "#  The digest history will be culled when it exceeds this value.\n",
      "#c.Session.digest_history_size = 65536\n",
      "\n",
      "## The maximum number of items for a container to be introspected for custom\n",
      "#  serialization. Containers larger than this are pickled outright.\n",
      "#c.Session.item_threshold = 64\n",
      "\n",
      "## execution key, for signing messages.\n",
      "#c.Session.key = b''\n",
      "\n",
      "## path to file containing execution key.\n",
      "#c.Session.keyfile = ''\n",
      "\n",
      "## Metadata dictionary, which serves as the default top-level metadata dict for\n",
      "#  each message.\n",
      "#c.Session.metadata = {}\n",
      "\n",
      "## The name of the packer for serializing messages. Should be one of 'json',\n",
      "#  'pickle', or an import name for a custom callable serializer.\n",
      "#c.Session.packer = 'json'\n",
      "\n",
      "## The UUID identifying this session.\n",
      "#c.Session.session = ''\n",
      "\n",
      "## The digest scheme used to construct the message signatures. Must have the form\n",
      "#  'hmac-HASH'.\n",
      "#c.Session.signature_scheme = 'hmac-sha256'\n",
      "\n",
      "## The name of the unpacker for unserializing messages. Only used with custom\n",
      "#  functions for `packer`.\n",
      "#c.Session.unpacker = 'json'\n",
      "\n",
      "## Username for the Session. Default is your system username.\n",
      "#c.Session.username = 'chalmerlowe'\n",
      "\n",
      "#------------------------------------------------------------------------------\n",
      "# MultiKernelManager(LoggingConfigurable) configuration\n",
      "#------------------------------------------------------------------------------\n",
      "\n",
      "## A class for managing multiple kernels.\n",
      "\n",
      "## The name of the default kernel to start\n",
      "#c.MultiKernelManager.default_kernel_name = 'python3'\n",
      "\n",
      "## The kernel manager class.  This is configurable to allow subclassing of the\n",
      "#  KernelManager for customized behavior.\n",
      "#c.MultiKernelManager.kernel_manager_class = 'jupyter_client.ioloop.IOLoopKernelManager'\n",
      "\n",
      "#------------------------------------------------------------------------------\n",
      "# MappingKernelManager(MultiKernelManager) configuration\n",
      "#------------------------------------------------------------------------------\n",
      "\n",
      "## A KernelManager that handles notebook mapping and HTTP error handling\n",
      "\n",
      "## \n",
      "#c.MappingKernelManager.root_dir = ''\n",
      "\n",
      "#------------------------------------------------------------------------------\n",
      "# ContentsManager(LoggingConfigurable) configuration\n",
      "#------------------------------------------------------------------------------\n",
      "\n",
      "## Base class for serving files and directories.\n",
      "#  \n",
      "#  This serves any text or binary file, as well as directories, with special\n",
      "#  handling for JSON notebook documents.\n",
      "#  \n",
      "#  Most APIs take a path argument, which is always an API-style unicode path, and\n",
      "#  always refers to a directory.\n",
      "#  \n",
      "#  - unicode, not url-escaped\n",
      "#  - '/'-separated\n",
      "#  - leading and trailing '/' will be stripped\n",
      "#  - if unspecified, path defaults to '',\n",
      "#    indicating the root path.\n",
      "\n",
      "## \n",
      "#c.ContentsManager.checkpoints = None\n",
      "\n",
      "## \n",
      "#c.ContentsManager.checkpoints_class = 'notebook.services.contents.checkpoints.Checkpoints'\n",
      "\n",
      "## \n",
      "#c.ContentsManager.checkpoints_kwargs = {}\n",
      "\n",
      "## Glob patterns to hide in file and directory listings.\n",
      "#c.ContentsManager.hide_globs = ['__pycache__', '*.pyc', '*.pyo', '.DS_Store', '*.so', '*.dylib', '*~']\n",
      "\n",
      "## Python callable or importstring thereof\n",
      "#  \n",
      "#  To be called on a contents model prior to save.\n",
      "#  \n",
      "#  This can be used to process the structure, such as removing notebook outputs\n",
      "#  or other side effects that should not be saved.\n",
      "#  \n",
      "#  It will be called as (all arguments passed by keyword)::\n",
      "#  \n",
      "#      hook(path=path, model=model, contents_manager=self)\n",
      "#  \n",
      "#  - model: the model to be saved. Includes file contents.\n",
      "#    Modifying this dict will affect the file that is stored.\n",
      "#  - path: the API path of the save destination\n",
      "#  - contents_manager: this ContentsManager instance\n",
      "#c.ContentsManager.pre_save_hook = None\n",
      "\n",
      "## The base name used when creating untitled directories.\n",
      "#c.ContentsManager.untitled_directory = 'Untitled Folder'\n",
      "\n",
      "## The base name used when creating untitled files.\n",
      "#c.ContentsManager.untitled_file = 'untitled'\n",
      "\n",
      "## The base name used when creating untitled notebooks.\n",
      "#c.ContentsManager.untitled_notebook = 'Untitled'\n",
      "\n",
      "#------------------------------------------------------------------------------\n",
      "# FileManagerMixin(Configurable) configuration\n",
      "#------------------------------------------------------------------------------\n",
      "\n",
      "## Mixin for ContentsAPI classes that interact with the filesystem.\n",
      "#  \n",
      "#  Provides facilities for reading, writing, and copying both notebooks and\n",
      "#  generic files.\n",
      "#  \n",
      "#  Shared by FileContentsManager and FileCheckpoints.\n",
      "#  \n",
      "#  Note ---- Classes using this mixin must provide the following attributes:\n",
      "#  \n",
      "#  root_dir : unicode\n",
      "#      A directory against against which API-style paths are to be resolved.\n",
      "#  \n",
      "#  log : logging.Logger\n",
      "\n",
      "## By default notebooks are saved on disk on a temporary file and then if\n",
      "#  succefully written, it replaces the old ones. This procedure, namely\n",
      "#  'atomic_writing', causes some bugs on file system whitout operation order\n",
      "#  enforcement (like some networked fs). If set to False, the new notebook is\n",
      "#  written directly on the old one which could fail (eg: full filesystem or quota\n",
      "#  )\n",
      "#c.FileManagerMixin.use_atomic_writing = True\n",
      "\n",
      "#------------------------------------------------------------------------------\n",
      "# FileContentsManager(FileManagerMixin,ContentsManager) configuration\n",
      "#------------------------------------------------------------------------------\n",
      "\n",
      "## Python callable or importstring thereof\n",
      "#  \n",
      "#  to be called on the path of a file just saved.\n",
      "#  \n",
      "#  This can be used to process the file on disk, such as converting the notebook\n",
      "#  to a script or HTML via nbconvert.\n",
      "#  \n",
      "#  It will be called as (all arguments passed by keyword)::\n",
      "#  \n",
      "#      hook(os_path=os_path, model=model, contents_manager=instance)\n",
      "#  \n",
      "#  - path: the filesystem path to the file just written - model: the model\n",
      "#  representing the file - contents_manager: this ContentsManager instance\n",
      "#c.FileContentsManager.post_save_hook = None\n",
      "\n",
      "## \n",
      "#c.FileContentsManager.root_dir = ''\n",
      "\n",
      "## DEPRECATED, use post_save_hook. Will be removed in Notebook 5.0\n",
      "#c.FileContentsManager.save_script = False\n",
      "\n",
      "#------------------------------------------------------------------------------\n",
      "# NotebookNotary(LoggingConfigurable) configuration\n",
      "#------------------------------------------------------------------------------\n",
      "\n",
      "## A class for computing and verifying notebook signatures.\n",
      "\n",
      "## The hashing algorithm used to sign notebooks.\n",
      "#c.NotebookNotary.algorithm = 'sha256'\n",
      "\n",
      "## The number of notebook signatures to cache. When the number of signatures\n",
      "#  exceeds this value, the oldest 25% of signatures will be culled.\n",
      "#c.NotebookNotary.cache_size = 65535\n",
      "\n",
      "## The sqlite file in which to store notebook signatures. By default, this will\n",
      "#  be in your Jupyter data directory. You can set it to ':memory:' to disable\n",
      "#  sqlite writing to the filesystem.\n",
      "#c.NotebookNotary.db_file = ''\n",
      "\n",
      "## The secret key with which notebooks are signed.\n",
      "#c.NotebookNotary.secret = b''\n",
      "\n",
      "## The file where the secret key is stored.\n",
      "#c.NotebookNotary.secret_file = ''\n",
      "\n",
      "#------------------------------------------------------------------------------\n",
      "# KernelSpecManager(LoggingConfigurable) configuration\n",
      "#------------------------------------------------------------------------------\n",
      "\n",
      "## If there is no Python kernelspec registered and the IPython kernel is\n",
      "#  available, ensure it is added to the spec list.\n",
      "#c.KernelSpecManager.ensure_native_kernel = True\n",
      "\n",
      "## The kernel spec class.  This is configurable to allow subclassing of the\n",
      "#  KernelSpecManager for customized behavior.\n",
      "#c.KernelSpecManager.kernel_spec_class = 'jupyter_client.kernelspec.KernelSpec'\n",
      "\n",
      "## Whitelist of allowed kernel names.\n",
      "#  \n",
      "#  By default, all installed kernels are allowed.\n",
      "#c.KernelSpecManager.whitelist = set()\n",
      "\n"
     ]
    }
   ],
   "source": [
    "# Let's use the notebook to read the content of the file\n",
    "# that Jupyter generated, using a short snippet of Python to\n",
    "# read in the file and then print it in Jupyter\n",
    "\n",
    "fin = open('config.txt').read()\n",
    "print(fin)\n",
    "\n",
    "# NOTE: the scrollable output!"
   ]
  },
  {
   "cell_type": "markdown",
   "metadata": {},
   "source": [
    "# We aren't gonna go through every item in this config...\n",
    "\n",
    "This config is long and covers all the bases...\n",
    "\n",
    "It is broken into sections...\n",
    "\n",
    "* Application\n",
    "* JupyterApp\n",
    "* NotebookApp\n",
    "* ConnectionFileMixin\n",
    "* KernelManager\n",
    "* Session\n",
    "* MultiKernelManager\n",
    "* MappingKernelManager\n",
    "* ContentsManager\n",
    "* FileManagerMixin\n",
    "* FileContentsManager\n",
    "* NotebookNotary\n",
    "* KernelSpecManager"
   ]
  },
  {
   "cell_type": "code",
   "execution_count": 2,
   "metadata": {
    "collapsed": true
   },
   "outputs": [],
   "source": [
    "## One, two or eight configurations to consider...\n",
    "# -----------------------------------------------------------------\n",
    "\n",
    "\n",
    "## The date format used by logging formatters for %(asctime)s\n",
    "#c.Application.log_datefmt = '%Y-%m-%d %H:%M:%S'\n",
    "\n",
    "\n",
    "## The full path to an SSL/TLS certificate file.\n",
    "#c.NotebookApp.certfile = ''\n",
    "\n",
    "\n",
    "#c.NotebookApp.enable_mathjax = True\n",
    "\n",
    "\n",
    "## The port the notebook server will listen on.\n",
    "#c.NotebookApp.port = 8888\n",
    "\n",
    "\n",
    "## The name of the default kernel to start\n",
    "#c.MultiKernelManager.default_kernel_name = 'python3'\n",
    "\n",
    "\n",
    "## The base name used when creating untitled notebooks.\n",
    "#c.ContentsManager.untitled_notebook = 'Untitled'\n",
    "\n",
    "\n",
    "#c.FileManagerMixin.use_atomic_writing = True\n",
    "\n",
    "\n",
    "## The hashing algorithm used to sign notebooks.\n",
    "#c.NotebookNotary.algorithm = 'sha256'"
   ]
  },
  {
   "cell_type": "markdown",
   "metadata": {},
   "source": [
    "## Configuring on the fly"
   ]
  },
  {
   "cell_type": "markdown",
   "metadata": {},
   "source": [
    "## Jupyter Notebooks can be configured on the command-line\n",
    "\n",
    "When you run Jupyter from the command-line (CLI), you can specify configurations. These configurations will override any configs in the configuration file.\n",
    "\n",
    "For example, to set the port, use the following CLI configuration.\n",
    "\n",
    "<code>jupyter notebook --NotebookApp.port=4242</code>\n",
    "\n",
    "<img src=\"images/db_local_4242.png\" width=\"450\">\n",
    "\n",
    "*NOTE: in the config file, this item is:<br>\n",
    "c.NotebookApp.port = 8888*\n",
    "\n",
    "So it is very easy to find the appropriate CLI command to set the configs you need.\n",
    "\n",
    "### Want more info? \n",
    "\n",
    "Replace the *application placeholder* with the application of interest and you can get a quick reference OR a comprehensive help.\n",
    "\n",
    "<code>jupyter {application} --help       # Just the short options</code><br>\n",
    "<code>jupyter notebook --help-all        # Includes options without short names</code>\n"
   ]
  },
  {
   "cell_type": "markdown",
   "metadata": {},
   "source": [
    "# Tips, tricks and wow! who knew it could do that?"
   ]
  },
  {
   "cell_type": "markdown",
   "metadata": {},
   "source": [
    "Jupyter Notebooks allow you to:\n",
    "\n",
    "* control the outputs on the fly\n",
    "* see keyboard shortcuts\n",
    "* get help for your programming language\n",
    "* tab complete\n",
    "* display help for Jupyter "
   ]
  },
  {
   "cell_type": "markdown",
   "metadata": {},
   "source": [
    "## Controlling outputs\n",
    "\n",
    "To control your notebook outputs, you have several options...\n",
    "* Menu\n",
    "* Keyboard shortcuts\n",
    "\n",
    "### Menu:\n",
    "\n",
    "With the menu, you can control outputs by clearing the output entirely OR toggling the output cell so it is either:\n",
    "* open / closed\n",
    "* in scrolling mode\n",
    "* deleted / cleared\n",
    "\n",
    "<img src=\"images/nb_toggle_outputs.png\" width=\"400\">\n",
    "\n",
    "NOTE: There are several variations of this... current output OR all outputs.\n",
    "\n",
    "### Keyboard:\n",
    "\n",
    "There are several keyboard shortcuts to tackle **some** of the above tasks:\n",
    "1. Press **ESC** to enter command mode\n",
    "2. Press **o** to toggle output ................................. **# God option?**\n",
    "3. Press **Shift+o** to toggle scrolling output"
   ]
  },
  {
   "cell_type": "code",
   "execution_count": 3,
   "metadata": {
    "collapsed": false,
    "scrolled": true
   },
   "outputs": [
    {
     "name": "stdout",
     "output_type": "stream",
     "text": [
      "0 1 2 3 4 5 6 7 8 9 10 11 12 13 14 15 16 17 18 19 20 21 22 23 24 25 26 27 28 29 30 31 32 33 34 35 36 37 38 39 40 41 42 43 44 45 46 47 48 49 50 51 52 53 54 55 56 57 58 59 60 61 62 63 64 65 66 67 68 69 70 71 72 73 74 75 76 77 78 79 80 81 82 83 84 85 86 87 88 89 90 91 92 93 94 95 96 97 98 99 100 101 102 103 104 105 106 107 108 109 110 111 112 113 114 115 116 117 118 119 120 121 122 123 124 125 126 127 128 129 130 131 132 133 134 135 136 137 138 139 140 141 142 143 144 145 146 147 148 149 150 151 152 153 154 155 156 157 158 159 160 161 162 163 164 165 166 167 168 169 170 171 172 173 174 175 176 177 178 179 180 181 182 183 184 185 186 187 188 189 190 191 192 193 194 195 196 197 198 199 200 201 202 203 204 205 206 207 208 209 210 211 212 213 214 215 216 217 218 219 220 221 222 223 224 225 226 227 228 229 230 231 232 233 234 235 236 237 238 239 240 241 242 243 244 245 246 247 248 249 250 251 252 253 254 255 256 257 258 259 260 261 262 263 264 265 266 267 268 269 270 271 272 273 274 275 276 277 278 279 280 281 282 283 284 285 286 287 288 289 290 291 292 293 294 295 296 297 298 299 300 301 302 303 304 305 306 307 308 309 310 311 312 313 314 315 316 317 318 319 320 321 322 323 324 325 326 327 328 329 330 331 332 333 334 335 336 337 338 339 340 341 342 343 344 345 346 347 348 349 350 351 352 353 354 355 356 357 358 359 360 361 362 363 364 365 366 367 368 369 370 371 372 373 374 375 376 377 378 379 380 381 382 383 384 385 386 387 388 389 390 391 392 393 394 395 396 397 398 399 400 401 402 403 404 405 406 407 408 409 410 411 412 413 414 415 416 417 418 419 420 421 422 423 424 425 426 427 428 429 430 431 432 433 434 435 436 437 438 439 440 441 442 443 444 445 446 447 448 449 450 451 452 453 454 455 456 457 458 459 460 461 462 463 464 465 466 467 468 469 470 471 472 473 474 475 476 477 478 479 480 481 482 483 484 485 486 487 488 489 490 491 492 493 494 495 496 497 498 499 500 501 502 503 504 505 506 507 508 509 510 511 512 513 514 515 516 517 518 519 520 521 522 523 524 525 526 527 528 529 530 531 532 533 534 535 536 537 538 539 540 541 542 543 544 545 546 547 548 549 550 551 552 553 554 555 556 557 558 559 560 561 562 563 564 565 566 567 568 569 570 571 572 573 574 575 576 577 578 579 580 581 582 583 584 585 586 587 588 589 590 591 592 593 594 595 596 597 598 599 600 601 602 603 604 605 606 607 608 609 610 611 612 613 614 615 616 617 618 619 620 621 622 623 624 625 626 627 628 629 630 631 632 633 634 635 636 637 638 639 640 641 642 643 644 645 646 647 648 649 650 651 652 653 654 655 656 657 658 659 660 661 662 663 664 665 666 667 668 669 670 671 672 673 674 675 676 677 678 679 680 681 682 683 684 685 686 687 688 689 690 691 692 693 694 695 696 697 698 699 700 701 702 703 704 705 706 707 708 709 710 711 712 713 714 715 716 717 718 719 720 721 722 723 724 725 726 727 728 729 730 731 732 733 734 735 736 737 738 739 740 741 742 743 744 745 746 747 748 749 750 751 752 753 754 755 756 757 758 759 760 761 762 763 764 765 766 767 768 769 770 771 772 773 774 775 776 777 778 779 780 781 782 783 784 785 786 787 788 789 790 791 792 793 794 795 796 797 798 799 800 801 802 803 804 805 806 807 808 809 810 811 812 813 814 815 816 817 818 819 820 821 822 823 824 825 826 827 828 829 830 831 832 833 834 835 836 837 838 839 840 841 842 843 844 845 846 847 848 849 850 851 852 853 854 855 856 857 858 859 860 861 862 863 864 865 866 867 868 869 870 871 872 873 874 875 876 877 878 879 880 881 882 883 884 885 886 887 888 889 890 891 892 893 894 895 896 897 898 899 900 901 902 903 904 905 906 907 908 909 910 911 912 913 914 915 916 917 918 919 920 921 922 923 924 925 926 927 928 929 930 931 932 933 934 935 936 937 938 939 940 941 942 943 944 945 946 947 948 949 950 951 952 953 954 955 956 957 958 959 960 961 962 963 964 965 966 967 968 969 970 971 972 973 974 975 976 977 978 979 980 981 982 983 984 985 986 987 988 989 990 991 992 993 994 995 996 997 998 999 1000 1001 1002 1003 1004 1005 1006 1007 1008 1009 1010 1011 1012 1013 1014 1015 1016 1017 1018 1019 1020 1021 1022 1023 1024 1025 1026 1027 1028 1029 1030 1031 1032 1033 1034 1035 1036 1037 1038 1039 1040 1041 1042 1043 1044 1045 1046 1047 1048 1049 1050 1051 1052 1053 1054 1055 1056 1057 1058 1059 1060 1061 1062 1063 1064 1065 1066 1067 1068 1069 1070 1071 1072 1073 1074 1075 1076 1077 1078 1079 1080 1081 1082 1083 1084 1085 1086 1087 1088 1089 1090 1091 1092 1093 1094 1095 1096 1097 1098 1099 1100 1101 1102 1103 1104 1105 1106 1107 1108 1109 1110 1111 1112 1113 1114 1115 1116 1117 1118 1119 1120 1121 1122 1123 1124 1125 1126 1127 1128 1129 1130 1131 1132 1133 1134 1135 1136 1137 1138 1139 1140 1141 1142 1143 1144 1145 1146 1147 1148 1149 1150 1151 1152 1153 1154 1155 1156 1157 1158 1159 1160 1161 1162 1163 1164 1165 1166 1167 1168 1169 1170 1171 1172 1173 1174 1175 1176 1177 1178 1179 1180 1181 1182 1183 1184 1185 1186 1187 1188 1189 1190 1191 1192 1193 1194 1195 1196 1197 1198 1199 1200 1201 1202 1203 1204 1205 1206 1207 1208 1209 1210 1211 1212 1213 1214 1215 1216 1217 1218 1219 1220 1221 1222 1223 1224 1225 1226 1227 1228 1229 1230 1231 1232 1233 1234 1235 1236 1237 1238 1239 1240 1241 1242 1243 1244 1245 1246 1247 1248 1249 1250 1251 1252 1253 1254 1255 1256 1257 1258 1259 1260 1261 1262 1263 1264 1265 1266 1267 1268 1269 1270 1271 1272 1273 1274 1275 1276 1277 1278 1279 1280 1281 1282 1283 1284 1285 1286 1287 1288 1289 1290 1291 1292 1293 1294 1295 1296 1297 1298 1299 1300 1301 1302 1303 1304 1305 1306 1307 1308 1309 1310 1311 1312 1313 1314 1315 1316 1317 1318 1319 1320 1321 1322 1323 1324 1325 1326 1327 1328 1329 1330 1331 1332 1333 1334 1335 1336 1337 1338 1339 1340 1341 1342 1343 1344 1345 1346 1347 1348 1349 1350 1351 1352 1353 1354 1355 1356 1357 1358 1359 1360 1361 1362 1363 1364 1365 1366 1367 1368 1369 1370 1371 1372 1373 1374 1375 1376 1377 1378 1379 1380 1381 1382 1383 1384 1385 1386 1387 1388 1389 1390 1391 1392 1393 1394 1395 1396 1397 1398 1399 1400 1401 1402 1403 1404 1405 1406 1407 1408 1409 1410 1411 1412 1413 1414 1415 1416 1417 1418 1419 1420 1421 1422 1423 1424 1425 1426 1427 1428 1429 1430 1431 1432 1433 1434 1435 1436 1437 1438 1439 1440 1441 1442 1443 1444 1445 1446 1447 1448 1449 1450 1451 1452 1453 1454 1455 1456 1457 1458 1459 1460 1461 1462 1463 1464 1465 1466 1467 1468 1469 1470 1471 1472 1473 1474 1475 1476 1477 1478 1479 1480 1481 1482 1483 1484 1485 1486 1487 1488 1489 1490 1491 1492 1493 1494 1495 1496 1497 1498 1499 1500 1501 1502 1503 1504 1505 1506 1507 1508 1509 1510 1511 1512 1513 1514 1515 1516 1517 1518 1519 1520 1521 1522 1523 1524 1525 1526 1527 1528 1529 1530 1531 1532 1533 1534 1535 1536 1537 1538 1539 1540 1541 1542 1543 1544 1545 1546 1547 1548 1549 1550 1551 1552 1553 1554 1555 1556 1557 1558 1559 1560 1561 1562 1563 1564 1565 1566 1567 1568 1569 1570 1571 1572 1573 1574 1575 1576 1577 1578 1579 1580 1581 1582 1583 1584 1585 1586 1587 1588 1589 1590 1591 1592 1593 1594 1595 1596 1597 1598 1599 1600 1601 1602 1603 1604 1605 1606 1607 1608 1609 1610 1611 1612 1613 1614 1615 1616 1617 1618 1619 1620 1621 1622 1623 1624 1625 1626 1627 1628 1629 1630 1631 1632 1633 1634 1635 1636 1637 1638 1639 1640 1641 1642 1643 1644 1645 1646 1647 1648 1649 1650 1651 1652 1653 1654 1655 1656 1657 1658 1659 1660 1661 1662 1663 1664 1665 1666 1667 1668 1669 1670 1671 1672 1673 1674 1675 1676 1677 1678 1679 1680 1681 1682 1683 1684 1685 1686 1687 1688 1689 1690 1691 1692 1693 1694 1695 1696 1697 1698 1699 1700 1701 1702 1703 1704 1705 1706 1707 1708 1709 1710 1711 1712 1713 1714 1715 1716 1717 1718 1719 1720 1721 1722 1723 1724 1725 1726 1727 1728 1729 1730 1731 1732 1733 1734 1735 1736 1737 1738 1739 1740 1741 1742 1743 1744 1745 1746 1747 1748 1749 1750 1751 1752 1753 1754 1755 1756 1757 1758 1759 1760 1761 1762 1763 1764 1765 1766 1767 1768 1769 1770 1771 1772 1773 1774 1775 1776 1777 1778 1779 1780 1781 1782 1783 1784 1785 1786 1787 1788 1789 1790 1791 1792 1793 1794 1795 1796 1797 1798 1799 1800 1801 1802 1803 1804 1805 1806 1807 1808 1809 1810 1811 1812 1813 1814 1815 1816 1817 1818 1819 1820 1821 1822 1823 1824 1825 1826 1827 1828 1829 1830 1831 1832 1833 1834 1835 1836 1837 1838 1839 1840 1841 1842 1843 1844 1845 1846 1847 1848 1849 1850 1851 1852 1853 1854 1855 1856 1857 1858 1859 1860 1861 1862 1863 1864 1865 1866 1867 1868 1869 1870 1871 1872 1873 1874 1875 1876 1877 1878 1879 1880 1881 1882 1883 1884 1885 1886 1887 1888 1889 1890 1891 1892 1893 1894 1895 1896 1897 1898 1899 1900 1901 1902 1903 1904 1905 1906 1907 1908 1909 1910 1911 1912 1913 1914 1915 1916 1917 1918 1919 1920 1921 1922 1923 1924 1925 1926 1927 1928 1929 1930 1931 1932 1933 1934 1935 1936 1937 1938 1939 1940 1941 1942 1943 1944 1945 1946 1947 1948 1949 1950 1951 1952 1953 1954 1955 1956 1957 1958 1959 1960 1961 1962 1963 1964 1965 1966 1967 1968 1969 1970 1971 1972 1973 1974 1975 1976 1977 1978 1979 1980 1981 1982 1983 1984 1985 1986 1987 1988 1989 1990 1991 1992 1993 1994 1995 1996 1997 1998 1999 2000 2001 2002 2003 2004 2005 2006 2007 2008 2009 2010 2011 2012 2013 2014 2015 2016 2017 2018 2019 2020 2021 2022 2023 2024 2025 2026 2027 2028 2029 2030 2031 2032 2033 2034 2035 2036 2037 2038 2039 2040 2041 2042 2043 2044 2045 2046 2047 2048 2049 2050 2051 2052 2053 2054 2055 2056 2057 2058 2059 2060 2061 2062 2063 2064 2065 2066 2067 2068 2069 2070 2071 2072 2073 2074 2075 2076 2077 2078 2079 2080 2081 2082 2083 2084 2085 2086 2087 2088 2089 2090 2091 2092 2093 2094 2095 2096 2097 2098 2099 2100 2101 2102 2103 2104 2105 2106 2107 2108 2109 2110 2111 2112 2113 2114 2115 2116 2117 2118 2119 2120 2121 2122 2123 2124 2125 2126 2127 2128 2129 2130 2131 2132 2133 2134 2135 2136 2137 2138 2139 2140 2141 2142 2143 2144 2145 2146 2147 2148 2149 2150 2151 2152 2153 2154 2155 2156 2157 2158 2159 2160 2161 2162 2163 2164 2165 2166 2167 2168 2169 2170 2171 2172 2173 2174 2175 2176 2177 2178 2179 2180 2181 2182 2183 2184 2185 2186 2187 2188 2189 2190 2191 2192 2193 2194 2195 2196 2197 2198 2199 2200 2201 2202 2203 2204 2205 2206 2207 2208 2209 2210 2211 2212 2213 2214 2215 2216 2217 2218 2219 2220 2221 2222 2223 2224 2225 2226 2227 2228 2229 2230 2231 2232 2233 2234 2235 2236 2237 2238 2239 2240 2241 2242 2243 2244 2245 2246 2247 2248 2249 2250 2251 2252 2253 2254 2255 2256 2257 2258 2259 2260 2261 2262 2263 2264 2265 2266 2267 2268 2269 2270 2271 2272 2273 2274 2275 2276 2277 2278 2279 2280 2281 2282 2283 2284 2285 2286 2287 2288 2289 2290 2291 2292 2293 2294 2295 2296 2297 2298 2299 2300 2301 2302 2303 2304 2305 2306 2307 2308 2309 2310 2311 2312 2313 2314 2315 2316 2317 2318 2319 2320 2321 2322 2323 2324 2325 2326 2327 2328 2329 2330 2331 2332 2333 2334 2335 2336 2337 2338 2339 2340 2341 2342 2343 2344 2345 2346 2347 2348 2349 2350 2351 2352 2353 2354 2355 2356 2357 2358 2359 2360 2361 2362 2363 2364 2365 2366 2367 2368 2369 2370 2371 2372 2373 2374 2375 2376 2377 2378 2379 2380 2381 2382 2383 2384 2385 2386 2387 2388 2389 2390 2391 2392 2393 2394 2395 2396 2397 2398 2399 2400 2401 2402 2403 2404 2405 2406 2407 2408 2409 2410 2411 2412 2413 2414 2415 2416 2417 2418 2419 2420 2421 2422 2423 2424 2425 2426 2427 2428 2429 2430 2431 2432 2433 2434 2435 2436 2437 2438 2439 2440 2441 2442 2443 2444 2445 2446 2447 2448 2449 2450 2451 2452 2453 2454 2455 2456 2457 2458 2459 2460 2461 2462 2463 2464 2465 2466 2467 2468 2469 2470 2471 2472 2473 2474 2475 2476 2477 2478 2479 2480 2481 2482 2483 2484 2485 2486 2487 2488 2489 2490 2491 2492 2493 2494 2495 2496 2497 2498 2499 2500 2501 2502 2503 2504 2505 2506 2507 2508 2509 2510 2511 2512 2513 2514 2515 2516 2517 2518 2519 2520 2521 2522 2523 2524 2525 2526 2527 2528 2529 2530 2531 2532 2533 2534 2535 2536 2537 2538 2539 2540 2541 2542 2543 2544 2545 2546 2547 2548 2549 2550 2551 2552 2553 2554 2555 2556 2557 2558 2559 2560 2561 2562 2563 2564 2565 2566 2567 2568 2569 2570 2571 2572 2573 2574 2575 2576 2577 2578 2579 2580 2581 2582 2583 2584 2585 2586 2587 2588 2589 2590 2591 2592 2593 2594 2595 2596 2597 2598 2599 2600 2601 2602 2603 2604 2605 2606 2607 2608 2609 2610 2611 2612 2613 2614 2615 2616 2617 2618 2619 2620 2621 2622 2623 2624 2625 2626 2627 2628 2629 2630 2631 2632 2633 2634 2635 2636 2637 2638 2639 2640 2641 2642 2643 2644 2645 2646 2647 2648 2649 2650 2651 2652 2653 2654 2655 2656 2657 2658 2659 2660 2661 2662 2663 2664 2665 2666 2667 2668 2669 2670 2671 2672 2673 2674 2675 2676 2677 2678 2679 2680 2681 2682 2683 2684 2685 2686 2687 2688 2689 2690 2691 2692 2693 2694 2695 2696 2697 2698 2699 2700 2701 2702 2703 2704 2705 2706 2707 2708 2709 2710 2711 2712 2713 2714 2715 2716 2717 2718 2719 2720 2721 2722 2723 2724 2725 2726 2727 2728 2729 2730 2731 2732 2733 2734 2735 2736 2737 2738 2739 2740 2741 2742 2743 2744 2745 2746 2747 2748 2749 2750 2751 2752 2753 2754 2755 2756 2757 2758 2759 2760 2761 2762 2763 2764 2765 2766 2767 2768 2769 2770 2771 2772 2773 2774 2775 2776 2777 2778 2779 2780 2781 2782 2783 2784 2785 2786 2787 2788 2789 2790 2791 2792 2793 2794 2795 2796 2797 2798 2799 2800 2801 2802 2803 2804 2805 2806 2807 2808 2809 2810 2811 2812 2813 2814 2815 2816 2817 2818 2819 2820 2821 2822 2823 2824 2825 2826 2827 2828 2829 2830 2831 2832 2833 2834 2835 2836 2837 2838 2839 2840 2841 2842 2843 2844 2845 2846 2847 2848 2849 2850 2851 2852 2853 2854 2855 2856 2857 2858 2859 2860 2861 2862 2863 2864 2865 2866 2867 2868 2869 2870 2871 2872 2873 2874 2875 2876 2877 2878 2879 2880 2881 2882 2883 2884 2885 2886 2887 2888 2889 2890 2891 2892 2893 2894 2895 2896 2897 2898 2899 2900 2901 2902 2903 2904 2905 2906 2907 2908 2909 2910 2911 2912 2913 2914 2915 2916 2917 2918 2919 2920 2921 2922 2923 2924 2925 2926 2927 2928 2929 2930 2931 2932 2933 2934 2935 2936 2937 2938 2939 2940 2941 2942 2943 2944 2945 2946 2947 2948 2949 2950 2951 2952 2953 2954 2955 2956 2957 2958 2959 2960 2961 2962 2963 2964 2965 2966 2967 2968 2969 2970 2971 2972 2973 2974 2975 2976 2977 2978 2979 2980 2981 2982 2983 2984 2985 2986 2987 2988 2989 2990 2991 2992 2993 2994 2995 2996 2997 2998 2999 \n"
     ]
    }
   ],
   "source": [
    "# Use Control+Enter to keep the focus in this cell\n",
    "# Press ESC to go to Command Mode\n",
    "# Experiment with toggling outputs...\n",
    "\n",
    "numbers = 3000\n",
    "ints = list()\n",
    "for num in range(numbers):\n",
    "    ints.append(str(num) + ' ')\n",
    "            \n",
    "result = ''.join(ints)                \n",
    "print(result)                \n",
    "                "
   ]
  },
  {
   "cell_type": "markdown",
   "metadata": {},
   "source": [
    "## Slideshows? What?\n",
    "\n",
    "Using the magic of reveal.js behind the scenes, Jupyter can produce slideshows.\n",
    "\n",
    "To create cells that can be transformed into slides, requires several steps...\n",
    "\n",
    "1. Set the CellToolbar to Slideshow \n",
    "<br><img src=\"images/nb_slideshow_menu.png\" width=\"350\"><br>\n",
    "\n",
    "2. Click on the Slidetype to choose which type of slide you want \n",
    "<br><img src=\"images/nb_slidetype_dropdown.png\" width=\"200\">\n",
    "\n",
    "Let's go take a look in the samplenb folder at a slideshow found there.\n",
    "\n"
   ]
  },
  {
   "cell_type": "markdown",
   "metadata": {},
   "source": [
    "## Generating and running the slideshow in a browser.\n",
    "\n",
    "To generate the slides and run them in a browser, use Jupyter's nbconvert application, by typing this on the command-line:\n",
    "\n",
    "<code>jupyter nbconvert --to slides --post serve {notebookname}</code><br>\n",
    "<code>jupyter nbconvert --to slides --post serve slideshow.ipynb</code>\n",
    "\n",
    "This command will:\n",
    "* create a new **\\*.html** file with in the same folder as the notebook file\n",
    "<br><code>slideshow.slides.html</code><br>\n",
    "* open a new tab in your browser displaying the slideshow\n",
    "\n",
    "To kill the slideshow, return to the command-line and type **CTRL+c**"
   ]
  },
  {
   "cell_type": "markdown",
   "metadata": {},
   "source": [
    "# Other formats:\n",
    "\n",
    "To get a list of other formats...<br>\n",
    "<code>jupyter nbconvert --help</code>\n",
    "\n",
    "* custom\n",
    "* html\n",
    "* latex\n",
    "* markdown\n",
    "* notebook\n",
    "* pdf\n",
    "* python\n",
    "* rst\n",
    "* script\n",
    "* slides\n",
    "\n",
    "<code>jupyter nbconvert --to html slideshow.ipynb</code>"
   ]
  },
  {
   "cell_type": "markdown",
   "metadata": {},
   "source": [
    "# Python format...,\n",
    "## but why?\n",
    "\n",
    "<code>jupyter nbconvert --to python slideshow.ipynb</code>\n",
    "\n",
    "This will convert your Jupyter Notebook to a python script, that can be executed just like any other python script, i.e.:\n",
    "* on the command-line\n",
    "* within another Jupyter Notebook\n",
    "\n",
    "All the metadata from the Notebook is either stripped out entirely OR converted to comments."
   ]
  },
  {
   "cell_type": "code",
   "execution_count": null,
   "metadata": {
    "collapsed": false
   },
   "outputs": [],
   "source": [
    "# this IPython magic runs a version of cat with builtin Python syntax highlighting.\n",
    "# The Jupyter Notebook opens a pager at the bottom of the browser tab\n",
    "# There are two icons to open the pager in a separate tab/window OR close the pager.\n",
    "\n",
    "%pycat samplenb/slideshow.py"
   ]
  },
  {
   "cell_type": "code",
   "execution_count": 5,
   "metadata": {
    "collapsed": false
   },
   "outputs": [
    {
     "name": "stdout",
     "output_type": "stream",
     "text": [
      "!kcor swohsedilS retypuJ\n",
      "\n",
      "Jupyter Slideshows rock!\n"
     ]
    },
    {
     "data": {
      "image/png": "[encoded data removed]",
      "text/plain": [
       "<matplotlib.figure.Figure at 0x10cf76668>"
      ]
     },
     "metadata": {},
     "output_type": "display_data"
    },
    {
     "data": {
      "image/png": "[encoded data removed]",
      "text/plain": [
       "<matplotlib.figure.Figure at 0x10f3d6b38>"
      ]
     },
     "metadata": {},
     "output_type": "display_data"
    }
   ],
   "source": [
    "%run samplenb/slideshow.py"
   ]
  },
  {
   "cell_type": "markdown",
   "metadata": {},
   "source": [
    "# Advanced uses: matplotlib, numpy, bokeh and pandas, oh my!"
   ]
  },
  {
   "cell_type": "code",
   "execution_count": 14,
   "metadata": {
    "collapsed": true
   },
   "outputs": [],
   "source": [
    "%matplotlib notebook\n",
    "import matplotlib.pylab as plt\n",
    "import numpy as np"
   ]
  },
  {
   "cell_type": "code",
   "execution_count": null,
   "metadata": {
    "collapsed": false
   },
   "outputs": [],
   "source": [
    "x = np.linspace(0, 10)\n",
    "line, = plt.plot(x, np.sin(x), '--', linewidth=2)"
   ]
  },
  {
   "cell_type": "code",
   "execution_count": null,
   "metadata": {
    "collapsed": false
   },
   "outputs": [],
   "source": [
    "%matplotlib inline\n",
    "import numpy as np\n",
    "import matplotlib.pyplot as plt"
   ]
  },
  {
   "cell_type": "code",
   "execution_count": null,
   "metadata": {
    "collapsed": false
   },
   "outputs": [],
   "source": [
    "N = 20\n",
    "theta = np.linspace(0.0, 2 * np.pi, N, endpoint=False)\n",
    "radii = 10 * np.random.rand(N)\n",
    "width = np.pi / 4 * np.random.rand(N)\n",
    "\n",
    "ax = plt.subplot(111, projection='polar')\n",
    "bars = ax.bar(theta, radii, width=width, bottom=0.0)\n",
    "\n",
    "# Use custom colors and opacity\n",
    "for r, bar in zip(radii, bars):\n",
    "    bar.set_facecolor(plt.cm.jet(r / 10.))\n",
    "    bar.set_alpha(0.5)\n",
    "\n",
    "plt.show()"
   ]
  },
  {
   "cell_type": "code",
   "execution_count": null,
   "metadata": {
    "collapsed": true
   },
   "outputs": [],
   "source": [
    "import pandas as pd\n",
    "from bokeh.charts import output_file, Chord\n",
    "from bokeh.io import push_notebook, show, output_notebook\n",
    "from bokeh.sampledata.les_mis import data"
   ]
  },
  {
   "cell_type": "code",
   "execution_count": null,
   "metadata": {
    "collapsed": false
   },
   "outputs": [],
   "source": [
    "nodes = data['nodes']\n",
    "links = data['links']\n",
    "\n",
    "nodes_df = pd.DataFrame(nodes)\n",
    "links_df = pd.DataFrame(links)\n",
    "\n",
    "source_data = links_df.merge(nodes_df, how='left', left_on='source', right_index=True)\n",
    "source_data = source_data.merge(nodes_df, how='left', left_on='target', right_index=True)\n",
    "source_data = source_data[source_data[\"value\"] > 5]\n",
    "\n",
    "chord_from_df = Chord(source_data, source=\"name_x\", target=\"name_y\", value=\"value\")\n",
    "output_notebook()\n",
    "t = show(chord_from_df, notebook_handle=True)"
   ]
  },
  {
   "cell_type": "markdown",
   "metadata": {},
   "source": [
    "# Book Publishing...\n",
    "## Whoa... who thought that was a good idea?\n",
    "\n",
    "### Apparently... \n",
    "[O'Reilly publishing. Mining the social web, 2nd Edition](https://github.com/ptwobrussell/Mining-the-Social-Web-2nd-Edition)\n"
   ]
  },
  {
   "cell_type": "markdown",
   "metadata": {},
   "source": [
    "# Gotchas"
   ]
  },
  {
   "cell_type": "markdown",
   "metadata": {},
   "source": [
    "## As cool as all this is... there are a couple of things that can trip you up.\n",
    "\n",
    "* back and forth: rerunning cells vs rerunning all\n",
    "* PDFs, Latex, Oh my!\n",
    "* kernel restart\n",
    "* running more than one language at a time? >>> beaker "
   ]
  },
  {
   "cell_type": "markdown",
   "metadata": {},
   "source": [
    "# Share and share alike"
   ]
  },
  {
   "cell_type": "markdown",
   "metadata": {},
   "source": [
    "When you get done... if you want to share your notebooks, there are many ways to do so... a popular mechanism is via hosting...\n",
    "\n",
    "* **nbviewer**: https://nbviewer.jupyter.org\n",
    "* **github**: notebook viewer builtin\n",
    "* **JupyterHub, standalone server**: https://jupyterhub.readthedocs.io/en/latest/quickstart.html\n"
   ]
  },
  {
   "cell_type": "markdown",
   "metadata": {},
   "source": [
    "# When you are done:\n",
    "\n",
    "When you are done working in your virtual environment, you can get out of the virtualenv by running the deactivate command (Or simply closing the terminal window).\n",
    "\n",
    "**Linux / OSX:**<br><code>source deactivate</code><br>\n",
    "**Windows: **<br><code>deactivate</code>"
   ]
  },
  {
   "cell_type": "markdown",
   "metadata": {},
   "source": [
    "# Where to go from here?"
   ]
  },
  {
   "cell_type": "markdown",
   "metadata": {},
   "source": [
    "The sky is the limit.\n",
    "\n",
    "Where do you want to go from here?\n",
    "\n",
    "The documentation is robust...\n",
    "\n",
    "Let's go look:\n",
    "https://jupyter.readthedocs.io/en/latest/"
   ]
  },
  {
   "cell_type": "markdown",
   "metadata": {
    "collapsed": true
   },
   "source": [
    "# Did you enjoy today's session?\n",
    "## Want to learn more geekery?\n",
    "<img src=\"images/logos.3.600.wide.png\" width=\"600\" align='left'>\n",
    "<br>\n",
    "<br>\n",
    "<br>\n",
    "<br>\n",
    "\n",
    "### offers classes in:\n",
    "* Introduction to Programming in Python\n",
    "* Automating your work in Python\n",
    "\n",
    "Our specialty is teaching you to:\n",
    "* simplify your workflow\n",
    "* prototype your ideas\n",
    "* reduce manual labor\n",
    "* reduce errors\n",
    "* analyze your data\n",
    "* ultimately get YOU back to what you want to do\n"
   ]
  },
  {
   "cell_type": "markdown",
   "metadata": {},
   "source": [
    "# You want more Jupyter magic?\n",
    "## How about widgets?"
   ]
  },
  {
   "cell_type": "code",
   "execution_count": 25,
   "metadata": {
    "collapsed": false
   },
   "outputs": [],
   "source": [
    "import ipywidgets as widgets\n",
    "from ipywidgets import IntSlider\n",
    "from IPython.display import display"
   ]
  },
  {
   "cell_type": "code",
   "execution_count": 16,
   "metadata": {
    "collapsed": true
   },
   "outputs": [],
   "source": [
    "w = IntSlider()"
   ]
  },
  {
   "cell_type": "code",
   "execution_count": 18,
   "metadata": {
    "collapsed": false
   },
   "outputs": [],
   "source": [
    "display(w)"
   ]
  },
  {
   "cell_type": "code",
   "execution_count": 20,
   "metadata": {
    "collapsed": false
   },
   "outputs": [
    {
     "name": "stdout",
     "output_type": "stream",
     "text": [
      "29\n"
     ]
    }
   ],
   "source": [
    "print(w.value)"
   ]
  },
  {
   "cell_type": "code",
   "execution_count": 23,
   "metadata": {
    "collapsed": false
   },
   "outputs": [],
   "source": [
    "from traitlets import link\n",
    "from ipywidgets import FloatText, FloatSlider\n",
    "\n",
    "a = FloatText()\n",
    "b = FloatSlider()\n",
    "display(a,b)\n",
    "\n",
    "mylink = link((a, 'value'), (b, 'value'))"
   ]
  },
  {
   "cell_type": "code",
   "execution_count": 28,
   "metadata": {
    "collapsed": false
   },
   "outputs": [],
   "source": [
    "widgets.IntSlider(\n",
    "    value=7,\n",
    "    min=0,\n",
    "    max=10,\n",
    "    step=1,\n",
    "    description='Test:',\n",
    "    disabled=False,\n",
    "    continuous_update=False,\n",
    "    orientation='horizontal',\n",
    "    readout=True,\n",
    "    readout_format='i',\n",
    "    slider_color='purple'\n",
    ")"
   ]
  },
  {
   "cell_type": "code",
   "execution_count": 29,
   "metadata": {
    "collapsed": true
   },
   "outputs": [],
   "source": [
    "widgets.FloatRangeSlider(\n",
    "    value=[5, 7.5],\n",
    "    min=0,\n",
    "    max=10.0,\n",
    "    step=0.1,\n",
    "    description='Test:',\n",
    "    disabled=False,\n",
    "    continuous_update=False,\n",
    "    orientation='horizontal',\n",
    "    readout=True,\n",
    "    readout_format='i',\n",
    "    slider_color='white',\n",
    "    color='black'\n",
    ")"
   ]
  },
  {
   "cell_type": "code",
   "execution_count": 37,
   "metadata": {
    "collapsed": true
   },
   "outputs": [],
   "source": [
    "widgets.IntProgress(\n",
    "    value=74,\n",
    "    min=0,\n",
    "    max=100,\n",
    "    step=1,\n",
    "    description='Loading:',\n",
    "    bar_style='', # 'success', 'info', 'warning', 'danger' or ''\n",
    "    orientation='horizontal'\n",
    ")"
   ]
  },
  {
   "cell_type": "code",
   "execution_count": 40,
   "metadata": {
    "collapsed": false
   },
   "outputs": [],
   "source": [
    "widgets.Dropdown(\n",
    "    options={'One': 1, 'Two': 2, 'Three': 3},\n",
    "    value=2,\n",
    "    description='Number:',\n",
    ")"
   ]
  },
  {
   "cell_type": "code",
   "execution_count": 41,
   "metadata": {
    "collapsed": true
   },
   "outputs": [],
   "source": [
    "widgets.Textarea(\n",
    "    value='Hello World',\n",
    "    placeholder='Type something',\n",
    "    description='String:',\n",
    "    disabled=False\n",
    ")"
   ]
  },
  {
   "cell_type": "code",
   "execution_count": 43,
   "metadata": {
    "collapsed": true
   },
   "outputs": [],
   "source": [
    "list = ['P0', 'P1', 'P2', 'P3', 'P4']\n",
    "children = [widgets.Text(description=name) for name in list]\n",
    "tab = widgets.Tab(children=children)\n",
    "tab"
   ]
  },
  {
   "cell_type": "markdown",
   "metadata": {},
   "source": [
    "## The list goes on and on...\n",
    "\n",
    "https://ipywidgets.readthedocs.io/en/latest/examples/Widget%20List.html"
   ]
  }
 ],
 "metadata": {
  "anaconda-cloud": {},
  "kernelspec": {
   "display_name": "Python [default]",
   "language": "python",
   "name": "python3"
  },
  "language_info": {
   "codemirror_mode": {
    "name": "ipython",
    "version": 3
   },
   "file_extension": ".py",
   "mimetype": "text/x-python",
   "name": "python",
   "nbconvert_exporter": "python",
   "pygments_lexer": "ipython3",
   "version": "3.5.2"
  },
  "widgets": {
   "state": {
    "0b6989a8dc0548bfbed6087f14cfca9a": {
     "views": [
      {
       "cell_index": 75
      }
     ]
    },
    "62702de098e944e9bf3d34604a661894": {
     "views": [
      {
       "cell_index": 79
      }
     ]
    },
    "75f6f0f5384f4d8482f79a48491cdef2": {
     "views": [
      {
       "cell_index": 81
      }
     ]
    },
    "a8759feddaab4c038338b943e3b2df76": {
     "views": [
      {
       "cell_index": 78
      }
     ]
    },
    "abf03cb0652c477bb8296444db845527": {
     "views": [
      {
       "cell_index": 82
      }
     ]
    },
    "b9172ac71f8045fe9e3f9949e96167b6": {
     "views": [
      {
       "cell_index": 80
      }
     ]
    },
    "c47cdaedc6274d2a91dbc1efd5f42ae5": {
     "views": [
      {
       "cell_index": 75
      }
     ]
    },
    "c93cfa5e2a9546f8a2951afaf2ec6c74": {
     "views": [
      {
       "cell_index": 77
      }
     ]
    },
    "e4dfebd9e8ee41e8b356b43d90d21a80": {
     "views": [
      {
       "cell_index": 73
      }
     ]
    }
   },
   "version": "1.2.0"
  }
 },
 "nbformat": 4,
 "nbformat_minor": 1
}
